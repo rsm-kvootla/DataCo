{
 "cells": [
  {
   "cell_type": "code",
   "execution_count": 35,
   "metadata": {},
   "outputs": [],
   "source": [
    "import pandas as pd\n",
    "import numpy as np"
   ]
  },
  {
   "cell_type": "code",
   "execution_count": 36,
   "metadata": {},
   "outputs": [],
   "source": [
    "df = pd.read_csv('datanew2.csv')"
   ]
  },
  {
   "cell_type": "code",
   "execution_count": 37,
   "metadata": {},
   "outputs": [],
   "source": [
    "df['late'] = df['days_for_shipping_(real)'] > df['days_for_shipment_(scheduled)']"
   ]
  },
  {
   "cell_type": "code",
   "execution_count": 38,
   "metadata": {},
   "outputs": [
    {
     "name": "stdout",
     "output_type": "stream",
     "text": [
      "Classification Report:\n",
      "               precision    recall  f1-score   support\n",
      "\n",
      "       False       0.72      0.81      0.76      5345\n",
      "        True       0.84      0.76      0.80      7101\n",
      "\n",
      "    accuracy                           0.78     12446\n",
      "   macro avg       0.78      0.79      0.78     12446\n",
      "weighted avg       0.79      0.78      0.78     12446\n",
      "\n",
      "ROC AUC Score: 0.8673391631555866\n"
     ]
    }
   ],
   "source": [
    "from sklearn.model_selection import train_test_split\n",
    "from sklearn.ensemble import RandomForestClassifier\n",
    "from sklearn.preprocessing import OneHotEncoder, StandardScaler\n",
    "from sklearn.compose import ColumnTransformer\n",
    "from sklearn.metrics import classification_report, roc_auc_score\n",
    "\n",
    "\n",
    "# Define features and target variable\n",
    "features = ['type', 'days_for_shipment_(scheduled)', 'shipping_mode', \n",
    "            'order_region', 'order_status', 'benefit_per_order', \n",
    "            'sales_per_customer', 'customer_city', 'customer_state', \n",
    "            'category_name', 'product_price', 'latitude', 'longitude']\n",
    "target = 'late'\n",
    "\n",
    "X = df[features]\n",
    "y = df[target]\n",
    "\n",
    "# Preprocess the data\n",
    "categorical_features = ['type', 'shipping_mode', 'order_region', 'order_status', \n",
    "                        'customer_city', 'customer_state', 'category_name']\n",
    "numerical_features = ['days_for_shipment_(scheduled)', 'benefit_per_order', \n",
    "                      'sales_per_customer', 'product_price', 'latitude', 'longitude']\n",
    "\n",
    "# One-hot encode categorical variables and scale numerical variables\n",
    "preprocessor = ColumnTransformer(\n",
    "    transformers=[\n",
    "        ('cat', OneHotEncoder(drop='first'), categorical_features),\n",
    "        ('num', StandardScaler(), numerical_features)\n",
    "    ]\n",
    ")\n",
    "X_processed = preprocessor.fit_transform(X)\n",
    "\n",
    "# Split data into training and testing sets\n",
    "X_train, X_test, y_train, y_test = train_test_split(X_processed, y, test_size=0.2, random_state=42)\n",
    "\n",
    "# Train Random Forest Classifier\n",
    "model = RandomForestClassifier(random_state=42)\n",
    "model.fit(X_train, y_train)\n",
    "\n",
    "# Make predictions\n",
    "y_pred = model.predict(X_test)\n",
    "y_pred_proba = model.predict_proba(X_test)[:, 1]\n",
    "\n",
    "# Evaluate the model\n",
    "print(\"Classification Report:\\n\", classification_report(y_test, y_pred))\n",
    "print(\"ROC AUC Score:\", roc_auc_score(y_test, y_pred_proba))"
   ]
  },
  {
   "cell_type": "code",
   "execution_count": 39,
   "metadata": {},
   "outputs": [
    {
     "name": "stdout",
     "output_type": "stream",
     "text": [
      "                                Feature    Importance\n",
      "656                       num__latitude  1.083814e-01\n",
      "652  num__days_for_shipment_(scheduled)  1.014034e-01\n",
      "653              num__benefit_per_order  9.753897e-02\n",
      "657                      num__longitude  9.609239e-02\n",
      "654             num__sales_per_customer  9.482630e-02\n",
      "..                                  ...           ...\n",
      "419            cat__customer_city_Ponce  1.891355e-05\n",
      "296          cat__customer_city_Lombard  1.764236e-05\n",
      "273        cat__customer_city_La Puente  1.586644e-05\n",
      "36          cat__customer_city_Asheboro  1.253646e-05\n",
      "190         cat__customer_city_Freehold  2.179212e-07\n",
      "\n",
      "[658 rows x 2 columns]\n"
     ]
    }
   ],
   "source": [
    "importances = model.feature_importances_\n",
    "feature_names = preprocessor.get_feature_names_out()\n",
    "feature_importances = pd.DataFrame({'Feature': feature_names, 'Importance': importances})\n",
    "print(feature_importances.sort_values(by='Importance', ascending=False))"
   ]
  },
  {
   "cell_type": "code",
   "execution_count": 40,
   "metadata": {},
   "outputs": [
    {
     "name": "stdout",
     "output_type": "stream",
     "text": [
      "Adjusted Classification Report:\n",
      "               precision    recall  f1-score   support\n",
      "\n",
      "       False       0.67      0.90      0.77      5345\n",
      "        True       0.90      0.67      0.77      7101\n",
      "\n",
      "    accuracy                           0.77     12446\n",
      "   macro avg       0.78      0.78      0.77     12446\n",
      "weighted avg       0.80      0.77      0.77     12446\n",
      "\n"
     ]
    }
   ],
   "source": [
    "threshold = 0.6\n",
    "y_pred_custom = (y_pred_proba >= threshold).astype(int)\n",
    "print(\"Adjusted Classification Report:\\n\", classification_report(y_test, y_pred_custom))"
   ]
  },
  {
   "cell_type": "code",
   "execution_count": 41,
   "metadata": {},
   "outputs": [
    {
     "name": "stdout",
     "output_type": "stream",
     "text": [
      "bool\n"
     ]
    },
    {
     "name": "stdout",
     "output_type": "stream",
     "text": [
      "Chi-square test for type:\n",
      "Chi2: 9.143967864174677, p-value: 0.027436746912424887\n",
      "\n",
      "Chi-square test for late:\n",
      "Chi2: 62224.91303289871, p-value: 0.0\n",
      "\n",
      "Chi-square test for delivery_status:\n",
      "Chi2: 59425.842580935525, p-value: 0.0\n",
      "\n",
      "Chi-square test for category_name:\n",
      "Chi2: 28.996004932055737, p-value: 0.5178065835735203\n",
      "\n",
      "Chi-square test for customer_city:\n",
      "Chi2: 1780.9612094094016, p-value: 7.106886615747253e-127\n",
      "\n",
      "Chi-square test for customer_country:\n",
      "Chi2: 0.6070032780043393, p-value: 0.4359183651459547\n",
      "\n",
      "Chi-square test for customer_email:\n",
      "Chi2: 0.0, p-value: 1.0\n",
      "\n",
      "Chi-square test for customer_fname:\n",
      "Chi2: 662.6284220672023, p-value: 3.439747035448566e-51\n",
      "\n",
      "Chi-square test for customer_lname:\n",
      "Chi2: 3813.7788424992495, p-value: 0.0\n",
      "\n",
      "Chi-square test for customer_password:\n",
      "Chi2: 0.0, p-value: 1.0\n",
      "\n",
      "Chi-square test for customer_segment:\n",
      "Chi2: 2.6085668206764163, p-value: 0.27136692412105806\n",
      "\n",
      "Chi-square test for customer_state:\n",
      "Chi2: 85.45942556655939, p-value: 0.00012487483389287548\n",
      "\n",
      "Chi-square test for customer_street:\n",
      "Chi2: 21346.201718493303, p-value: 0.0\n",
      "\n",
      "Chi-square test for department_name:\n",
      "Chi2: 0.9663444329273172, p-value: 0.965234393280117\n",
      "\n",
      "Chi-square test for market:\n",
      "Chi2: 0.1655518932411313, p-value: 0.6840956214808442\n",
      "\n",
      "Chi-square test for order_city:\n",
      "Chi2: 4253.231590386113, p-value: 0.0\n",
      "\n",
      "Chi-square test for order_country:\n",
      "Chi2: 109.49584099573185, p-value: 5.811567945028216e-14\n",
      "\n",
      "Chi-square test for order_date_(dateorders):\n",
      "Chi2: 62229.0, p-value: 0.0\n",
      "\n",
      "Chi-square test for order_region:\n",
      "Chi2: 4.000636027440062, p-value: 0.4059197795995038\n",
      "\n",
      "Chi-square test for order_state:\n",
      "Chi2: 1012.5629290717208, p-value: 6.976136020899248e-101\n",
      "\n",
      "Chi-square test for order_status:\n",
      "Chi2: 32.619614092994325, p-value: 7.210389060213724e-05\n",
      "\n",
      "Chi-square test for product_image:\n",
      "Chi2: 88.4649764879264, p-value: 0.40635657077493625\n",
      "\n",
      "Chi-square test for product_name:\n",
      "Chi2: 88.4649764879264, p-value: 0.40635657077493625\n",
      "\n",
      "Chi-square test for shipping_date_(dateorders):\n",
      "Chi2: 61122.11922967951, p-value: 0.0\n",
      "\n",
      "Chi-square test for shipping_mode:\n",
      "Chi2: 14009.529154216503, p-value: 0.0\n",
      "\n",
      "Significant variables with p-value < 0.05:\n",
      "['type', 'late', 'delivery_status', 'customer_city', 'customer_fname', 'customer_lname', 'customer_state', 'customer_street', 'order_city', 'order_country', 'order_date_(dateorders)', 'order_state', 'order_status', 'shipping_date_(dateorders)', 'shipping_mode']\n"
     ]
    }
   ],
   "source": [
    "print(df['late'].dtype)\n",
    "import scipy.stats as stats\n",
    "\n",
    "# Select only the factor variables (categorical variables)\n",
    "factor_vars = df.select_dtypes(include=['object', 'bool']).columns\n",
    "\n",
    "# List to store significant variables\n",
    "significant_vars = []\n",
    "\n",
    "# Run chi-square test for each factor variable in relation to 'late'\n",
    "for var in factor_vars:\n",
    "    contingency_table = pd.crosstab(df[var], df['late'])\n",
    "    chi2, p, dof, expected = stats.chi2_contingency(contingency_table)\n",
    "    print(f\"Chi-square test for {var}:\")\n",
    "    print(f\"Chi2: {chi2}, p-value: {p}\\n\")\n",
    "    if p < 0.05:\n",
    "        significant_vars.append(var)\n",
    "\n",
    "print(\"Significant variables with p-value < 0.05:\")\n",
    "print(significant_vars)"
   ]
  },
  {
   "cell_type": "code",
   "execution_count": 42,
   "metadata": {},
   "outputs": [
    {
     "name": "stdout",
     "output_type": "stream",
     "text": [
      "Classification Report:\n",
      "               precision    recall  f1-score   support\n",
      "\n",
      "       False       0.60      0.91      0.72      5345\n",
      "        True       0.88      0.54      0.67      7101\n",
      "\n",
      "    accuracy                           0.70     12446\n",
      "   macro avg       0.74      0.72      0.69     12446\n",
      "weighted avg       0.76      0.70      0.69     12446\n",
      "\n",
      "ROC AUC Score: 0.7452371363919414\n",
      "Log-Loss: 0.5462908010671877\n",
      "\n",
      "Adjusted Classification Report (Threshold = 0.6):\n",
      "               precision    recall  f1-score   support\n",
      "\n",
      "       False       0.60      0.91      0.72      5345\n",
      "        True       0.88      0.54      0.67      7101\n",
      "\n",
      "    accuracy                           0.70     12446\n",
      "   macro avg       0.74      0.72      0.69     12446\n",
      "weighted avg       0.76      0.70      0.69     12446\n",
      "\n"
     ]
    }
   ],
   "source": [
    "from sklearn.linear_model import LogisticRegression\n",
    "from sklearn.pipeline import Pipeline\n",
    "from sklearn.metrics import log_loss\n",
    "\n",
    "# Define features and target\n",
    "features = ['type', 'days_for_shipment_(scheduled)', 'shipping_mode', \n",
    "            'order_region', 'order_status', 'benefit_per_order', \n",
    "            'sales_per_customer', 'category_name', 'product_price', 'latitude', 'longitude']\n",
    "target = 'late'\n",
    "\n",
    "X = df[features]\n",
    "y = df[target]\n",
    "\n",
    "# Split the data into training and testing sets\n",
    "X_train, X_test, y_train, y_test = train_test_split(X, y, test_size=0.2, random_state=42)\n",
    "\n",
    "# Preprocess the data\n",
    "categorical_features = ['type', 'shipping_mode', 'order_region', 'order_status', 'category_name']\n",
    "numerical_features = ['days_for_shipment_(scheduled)', 'benefit_per_order', 'sales_per_customer', 'product_price', 'latitude', 'longitude']\n",
    "\n",
    "preprocessor = ColumnTransformer(\n",
    "    transformers=[\n",
    "        ('cat', OneHotEncoder(drop='first'), categorical_features),\n",
    "        ('num', StandardScaler(), numerical_features)\n",
    "    ]\n",
    ")\n",
    "\n",
    "# Create a pipeline for logistic regression\n",
    "logistic_pipeline = Pipeline(steps=[\n",
    "    ('preprocessor', preprocessor),\n",
    "    ('classifier', LogisticRegression(max_iter=500, class_weight='balanced'))  # Add class weights if needed\n",
    "])\n",
    "\n",
    "# Train the logistic regression model\n",
    "logistic_pipeline.fit(X_train, y_train)\n",
    "\n",
    "# Make predictions\n",
    "y_pred_proba = logistic_pipeline.predict_proba(X_test)[:, 1]  # Probabilities for the positive class\n",
    "y_pred = (y_pred_proba >= 0.5).astype(int)  # Use a default threshold of 0.5\n",
    "\n",
    "# Evaluate the model\n",
    "print(\"Classification Report:\\n\", classification_report(y_test, y_pred))\n",
    "print(\"ROC AUC Score:\", roc_auc_score(y_test, y_pred_proba))\n",
    "print(\"Log-Loss:\", log_loss(y_test, y_pred_proba))\n",
    "\n",
    "# Adjust the threshold for predictions (optional)\n",
    "threshold = 0.6  # Example: Use 0.6 to minimize false negatives\n",
    "y_pred_custom = (y_pred_proba >= threshold).astype(int)\n",
    "\n",
    "print(\"\\nAdjusted Classification Report (Threshold = 0.6):\\n\", classification_report(y_test, y_pred_custom))"
   ]
  },
  {
   "cell_type": "code",
   "execution_count": 43,
   "metadata": {},
   "outputs": [],
   "source": [
    "# Feature Engineering\n",
    "# 1. Interaction terms: Create interactions between important features\n",
    "df['shipment_efficiency'] = df['days_for_shipment_(scheduled)'] / (df['benefit_per_order'] + 1)\n",
    "df['price_per_customer'] = df['product_price'] / (df['sales_per_customer'] + 1)\n",
    "\n",
    "# 2. Extract categorical feature information (if applicable)\n",
    "df['is_high_value_order'] = (df['benefit_per_order'] > 50).astype(int)\n",
    "\n",
    "# 3. Encoding date features (e.g., shipping or order date)\n",
    "df['order_weekday'] = pd.to_datetime(df['order_date_(dateorders)']).dt.weekday\n",
    "df['is_weekend'] = df['order_weekday'].isin([5, 6]).astype(int)"
   ]
  },
  {
   "cell_type": "code",
   "execution_count": 44,
   "metadata": {},
   "outputs": [
    {
     "name": "stdout",
     "output_type": "stream",
     "text": [
      "Highly correlated features to review for removal: ['days_for_shipping_(real)', 'days_for_shipment_(scheduled)', 'late?', 'benefit_per_order', 'sales_per_customer', 'late_delivery_risk', 'category_id', 'customer_id', 'customer_zipcode', 'department_id', 'latitude', 'longitude', 'order_customer_id', 'order_id', 'order_item_cardprod_id', 'order_item_discount', 'order_item_discount_rate', 'order_item_id', 'order_item_product_price', 'order_item_profit_ratio', 'order_item_quantity', 'sales', 'order_item_total', 'order_profit_per_order', 'product_card_id', 'product_category_id', 'product_price', 'shipment_efficiency', 'price_per_customer', 'is_high_value_order', 'order_weekday', 'is_weekend']\n"
     ]
    }
   ],
   "source": [
    "# Correlation matrix\n",
    "corr_matrix = df.select_dtypes(include=[np.number]).corr()\n",
    "\n",
    "# Select features with high correlation (absolute correlation > 0.8)\n",
    "high_corr_features = [column for column in corr_matrix.columns if any(abs(corr_matrix[column]) > 0.8)]\n",
    "print(\"Highly correlated features to review for removal:\", high_corr_features)"
   ]
  },
  {
   "cell_type": "code",
   "execution_count": 45,
   "metadata": {},
   "outputs": [
    {
     "name": "stdout",
     "output_type": "stream",
     "text": [
      "Remaining Features: Index(['type', 'days_for_shipment_(scheduled)', 'late?', 'late',\n",
      "       'delivery_status', 'late_delivery_risk', 'category_id', 'category_name',\n",
      "       'customer_city', 'customer_country', 'customer_email', 'customer_fname',\n",
      "       'customer_lname', 'customer_password', 'customer_segment',\n",
      "       'customer_state', 'customer_street', 'department_name', 'market',\n",
      "       'order_city', 'order_country', 'order_date_(dateorders)',\n",
      "       'order_item_quantity', 'order_region', 'order_state', 'order_status',\n",
      "       'order_zipcode', 'product_image', 'product_name',\n",
      "       'shipping_date_(dateorders)', 'shipping_mode', 'shipment_efficiency',\n",
      "       'price_per_customer', 'is_high_value_order', 'order_weekday',\n",
      "       'is_weekend'],\n",
      "      dtype='object')\n"
     ]
    }
   ],
   "source": [
    "# Drop redundant or highly correlated features\n",
    "features_to_drop = [\n",
    "    'days_for_shipping_(real)', 'latitude', 'longitude', 'order_id', \n",
    "    'order_customer_id', 'customer_id', 'customer_zipcode', \n",
    "    'department_id', 'order_item_cardprod_id', 'order_item_discount',\n",
    "    'order_item_discount_rate', 'order_item_id', 'order_item_product_price', \n",
    "    'order_item_profit_ratio', 'sales', 'order_item_total', 'order_profit_per_order', \n",
    "    'product_card_id', 'product_category_id', 'benefit_per_order', \n",
    "    'product_price', 'sales_per_customer'\n",
    "]\n",
    "df = df.drop(columns=features_to_drop)\n",
    "\n",
    "print(\"Remaining Features:\", df.columns)"
   ]
  },
  {
   "cell_type": "code",
   "execution_count": 46,
   "metadata": {},
   "outputs": [
    {
     "name": "stdout",
     "output_type": "stream",
     "text": [
      "Simplified Model - Classification Report:\n",
      "               precision    recall  f1-score   support\n",
      "\n",
      "       False       0.60      0.91      0.72      5345\n",
      "        True       0.88      0.54      0.67      7101\n",
      "\n",
      "    accuracy                           0.70     12446\n",
      "   macro avg       0.74      0.72      0.69     12446\n",
      "weighted avg       0.76      0.70      0.69     12446\n",
      "\n",
      "Simplified Model - ROC AUC Score: 0.7471800635729113\n"
     ]
    }
   ],
   "source": [
    "# Define updated features\n",
    "features = [\n",
    "    'type', 'shipping_mode', 'order_region', 'order_status', \n",
    "    'shipment_efficiency', 'price_per_customer', 'is_high_value_order', \n",
    "    'order_weekday', 'is_weekend'\n",
    "]\n",
    "\n",
    "X = df[features]\n",
    "y = df[target]\n",
    "\n",
    "# Split the data\n",
    "X_train, X_test, y_train, y_test = train_test_split(X, y, test_size=0.2, random_state=42)\n",
    "\n",
    "# Preprocess categorical and numerical features\n",
    "categorical_features = ['type', 'shipping_mode', 'order_region', 'order_status']\n",
    "numerical_features = ['shipment_efficiency', 'price_per_customer', 'is_high_value_order', 'order_weekday', 'is_weekend']\n",
    "\n",
    "preprocessor = ColumnTransformer(\n",
    "    transformers=[\n",
    "        ('cat', OneHotEncoder(drop='first'), categorical_features),\n",
    "        ('num', StandardScaler(), numerical_features)\n",
    "    ]\n",
    ")\n",
    "\n",
    "# Train logistic regression with the simplified dataset\n",
    "logistic_pipeline = Pipeline(steps=[\n",
    "    ('preprocessor', preprocessor),\n",
    "    ('classifier', LogisticRegression(max_iter=500, class_weight='balanced'))\n",
    "])\n",
    "\n",
    "logistic_pipeline.fit(X_train, y_train)\n",
    "\n",
    "# Evaluate the model\n",
    "y_pred_proba = logistic_pipeline.predict_proba(X_test)[:, 1]\n",
    "y_pred = (y_pred_proba >= 0.5).astype(int)\n",
    "\n",
    "print(\"Simplified Model - Classification Report:\\n\", classification_report(y_test, y_pred))\n",
    "print(\"Simplified Model - ROC AUC Score:\", roc_auc_score(y_test, y_pred_proba))"
   ]
  },
  {
   "cell_type": "code",
   "execution_count": 47,
   "metadata": {},
   "outputs": [
    {
     "name": "stdout",
     "output_type": "stream",
     "text": [
      "Adjusted Classification Report (Threshold = 0.4):\n",
      "               precision    recall  f1-score   support\n",
      "\n",
      "       False       0.61      0.85      0.71      5345\n",
      "        True       0.84      0.58      0.69      7101\n",
      "\n",
      "    accuracy                           0.70     12446\n",
      "   macro avg       0.72      0.72      0.70     12446\n",
      "weighted avg       0.74      0.70      0.70     12446\n",
      "\n"
     ]
    }
   ],
   "source": [
    "# Adjust threshold to minimize false negatives (e.g., improve recall for late deliveries)\n",
    "threshold = 0.4  # Adjust this value as needed\n",
    "y_pred_custom = (y_pred_proba >= threshold).astype(int)\n",
    "\n",
    "print(\"Adjusted Classification Report (Threshold = 0.4):\\n\", classification_report(y_test, y_pred_custom))"
   ]
  },
  {
   "cell_type": "code",
   "execution_count": 48,
   "metadata": {},
   "outputs": [
    {
     "name": "stdout",
     "output_type": "stream",
     "text": [
      "Threshold: 0.3\n",
      "              precision    recall  f1-score   support\n",
      "\n",
      "       False       0.68      0.02      0.04      5345\n",
      "        True       0.57      0.99      0.73      7101\n",
      "\n",
      "    accuracy                           0.57     12446\n",
      "   macro avg       0.63      0.51      0.38     12446\n",
      "weighted avg       0.62      0.57      0.43     12446\n",
      "\n",
      "Threshold: 0.35\n",
      "              precision    recall  f1-score   support\n",
      "\n",
      "       False       0.61      0.70      0.65      5345\n",
      "        True       0.75      0.66      0.70      7101\n",
      "\n",
      "    accuracy                           0.68     12446\n",
      "   macro avg       0.68      0.68      0.68     12446\n",
      "weighted avg       0.69      0.68      0.68     12446\n",
      "\n",
      "Threshold: 0.4\n",
      "              precision    recall  f1-score   support\n",
      "\n",
      "       False       0.61      0.85      0.71      5345\n",
      "        True       0.84      0.58      0.69      7101\n",
      "\n",
      "    accuracy                           0.70     12446\n",
      "   macro avg       0.72      0.72      0.70     12446\n",
      "weighted avg       0.74      0.70      0.70     12446\n",
      "\n",
      "Threshold: 0.45\n",
      "              precision    recall  f1-score   support\n",
      "\n",
      "       False       0.60      0.90      0.72      5345\n",
      "        True       0.88      0.54      0.67      7101\n",
      "\n",
      "    accuracy                           0.70     12446\n",
      "   macro avg       0.74      0.72      0.69     12446\n",
      "weighted avg       0.76      0.70      0.69     12446\n",
      "\n",
      "Threshold: 0.5\n",
      "              precision    recall  f1-score   support\n",
      "\n",
      "       False       0.60      0.91      0.72      5345\n",
      "        True       0.88      0.54      0.67      7101\n",
      "\n",
      "    accuracy                           0.70     12446\n",
      "   macro avg       0.74      0.72      0.69     12446\n",
      "weighted avg       0.76      0.70      0.69     12446\n",
      "\n"
     ]
    }
   ],
   "source": [
    "# Test different thresholds\n",
    "thresholds = [0.3, 0.35, 0.4, 0.45, 0.5]\n",
    "for threshold in thresholds:\n",
    "    y_pred_custom = (y_pred_proba >= threshold).astype(int)\n",
    "    print(f\"Threshold: {threshold}\")\n",
    "    print(classification_report(y_test, y_pred_custom))"
   ]
  },
  {
   "cell_type": "markdown",
   "metadata": {},
   "source": [
    "1.\tThreshold: 0.3\n",
    "- Recall (True): 99% - Very high recall for predicting late deliveries (True class), meaning almost all late deliveries are captured.\n",
    "- Precision (True): 57% - Precision drops significantly, meaning many false positives (on-time predicted as late).\n",
    "- Accuracy: 57% - Overall accuracy suffers due to a high number of false positives.\n",
    "2.\tThreshold: 0.35\n",
    "- Recall (True): 66% - Recall improves compared to the default threshold but drops from 99% at 0.3.\n",
    "- Precision (True): 75% - Better balance between precision and recall.\n",
    "- Accuracy: 68% - Higher than threshold 0.3 but still slightly lower than 0.4.\n",
    "3.\tThreshold: 0.4\n",
    "- Recall (True): 58% - Captures fewer late deliveries compared to lower thresholds but has fewer false positives.\n",
    "- Precision (True): 84% - Highest precision among the thresholds, with better identification of true late deliveries.\n",
    "- Accuracy: 70% - Best overall accuracy."
   ]
  },
  {
   "cell_type": "markdown",
   "metadata": {},
   "source": [
    "Recommendation\n",
    "1.\tIf Recall is a Priority (e.g., minimizing missed late deliveries):\n",
    "Use Threshold 0.35:\n",
    "It balances recall (66%) and precision (75%) well.\n",
    "Accuracy (68%) is acceptable.\n",
    "2.\tIf Precision and Accuracy are More Important:\n",
    "Use Threshold 0.4:\n",
    "Best overall accuracy (70%).\n",
    "High precision (84%) ensures that predicted late deliveries are mostly correct."
   ]
  },
  {
   "cell_type": "code",
   "execution_count": 49,
   "metadata": {},
   "outputs": [
    {
     "name": "stdout",
     "output_type": "stream",
     "text": [
      "                         Feature  Coefficient  Abs_Coefficient\n",
      "5   shipping_mode_Standard Class    -6.504608         6.504608\n",
      "3         shipping_mode_Same Day    -6.142536         6.142536\n",
      "4     shipping_mode_Second Class    -4.790528         4.790528\n",
      "10           order_status_CLOSED     1.361631         1.361631\n",
      "2                  type_TRANSFER     1.130960         1.130960\n",
      "1                   type_PAYMENT     0.905492         0.905492\n",
      "0                     type_DEBIT     0.889159         0.889159\n",
      "15  order_status_PENDING_PAYMENT     0.509510         0.509510\n",
      "12          order_status_ON_HOLD     0.454345         0.454345\n",
      "11         order_status_COMPLETE     0.434814         0.434814\n"
     ]
    }
   ],
   "source": [
    "# Logistic regression coefficients for feature importance\n",
    "coefficients = logistic_pipeline.named_steps['classifier'].coef_[0]\n",
    "cat_feature_names = logistic_pipeline.named_steps['preprocessor'].transformers_[0][1].get_feature_names_out()\n",
    "num_feature_names = numerical_features\n",
    "feature_names = np.concatenate([cat_feature_names, num_feature_names])\n",
    "feature_importance = pd.DataFrame({'Feature': feature_names, 'Coefficient': coefficients})\n",
    "feature_importance['Abs_Coefficient'] = feature_importance['Coefficient'].abs()\n",
    "feature_importance = feature_importance.sort_values(by='Abs_Coefficient', ascending=False)\n",
    "\n",
    "print(feature_importance.head(10))  # Top 10 important features"
   ]
  },
  {
   "cell_type": "code",
   "execution_count": 50,
   "metadata": {},
   "outputs": [
    {
     "name": "stdout",
     "output_type": "stream",
     "text": [
      "Performance for Region West of USA :\n",
      "              precision    recall  f1-score   support\n",
      "\n",
      "       False       0.62      0.92      0.74       690\n",
      "        True       0.90      0.56      0.69       881\n",
      "\n",
      "    accuracy                           0.72      1571\n",
      "   macro avg       0.76      0.74      0.71      1571\n",
      "weighted avg       0.78      0.72      0.71      1571\n",
      "\n",
      "Performance for Region Central America:\n",
      "              precision    recall  f1-score   support\n",
      "\n",
      "       False       0.60      0.91      0.72      2444\n",
      "        True       0.89      0.55      0.68      3260\n",
      "\n",
      "    accuracy                           0.70      5704\n",
      "   macro avg       0.75      0.73      0.70      5704\n",
      "weighted avg       0.77      0.70      0.70      5704\n",
      "\n",
      "Performance for Region South America:\n",
      "              precision    recall  f1-score   support\n",
      "\n",
      "       False       0.57      0.89      0.69      1262\n",
      "        True       0.87      0.52      0.65      1772\n",
      "\n",
      "    accuracy                           0.67      3034\n",
      "   macro avg       0.72      0.70      0.67      3034\n",
      "weighted avg       0.74      0.67      0.67      3034\n",
      "\n",
      "Performance for Region East of USA:\n",
      "              precision    recall  f1-score   support\n",
      "\n",
      "       False       0.60      0.91      0.72       590\n",
      "        True       0.87      0.51      0.64       728\n",
      "\n",
      "    accuracy                           0.69      1318\n",
      "   macro avg       0.74      0.71      0.68      1318\n",
      "weighted avg       0.75      0.69      0.68      1318\n",
      "\n",
      "Performance for Region South of  USA :\n",
      "              precision    recall  f1-score   support\n",
      "\n",
      "       False       0.61      0.91      0.73       359\n",
      "        True       0.89      0.55      0.68       460\n",
      "\n",
      "    accuracy                           0.71       819\n",
      "   macro avg       0.75      0.73      0.71       819\n",
      "weighted avg       0.77      0.71      0.70       819\n",
      "\n"
     ]
    },
    {
     "name": "stderr",
     "output_type": "stream",
     "text": [
      "/tmp/ipykernel_98722/3721552809.py:2: UserWarning: Boolean Series key will be reindexed to match DataFrame index.\n",
      "  subset = X_test[df['order_region'] == region]\n",
      "/tmp/ipykernel_98722/3721552809.py:2: UserWarning: Boolean Series key will be reindexed to match DataFrame index.\n",
      "  subset = X_test[df['order_region'] == region]\n",
      "/tmp/ipykernel_98722/3721552809.py:2: UserWarning: Boolean Series key will be reindexed to match DataFrame index.\n",
      "  subset = X_test[df['order_region'] == region]\n",
      "/tmp/ipykernel_98722/3721552809.py:2: UserWarning: Boolean Series key will be reindexed to match DataFrame index.\n",
      "  subset = X_test[df['order_region'] == region]\n",
      "/tmp/ipykernel_98722/3721552809.py:2: UserWarning: Boolean Series key will be reindexed to match DataFrame index.\n",
      "  subset = X_test[df['order_region'] == region]\n"
     ]
    }
   ],
   "source": [
    "for region in df['order_region'].unique():\n",
    "    subset = X_test[df['order_region'] == region]\n",
    "    subset_y = y_test[df['order_region'] == region]\n",
    "    subset_pred = logistic_pipeline.predict(subset)\n",
    "    print(f\"Performance for Region {region}:\")\n",
    "    print(classification_report(subset_y, subset_pred))"
   ]
  },
  {
   "cell_type": "code",
   "execution_count": 51,
   "metadata": {},
   "outputs": [
    {
     "name": "stdout",
     "output_type": "stream",
     "text": [
      "Cross-validated ROC AUC scores: [0.7410699  0.76897883 0.72572491 0.73664196 0.73002175]\n",
      "Average ROC AUC: 0.7404874680836957\n"
     ]
    }
   ],
   "source": [
    "from sklearn.model_selection import cross_val_score\n",
    "\n",
    "scores = cross_val_score(logistic_pipeline, X, y, cv=5, scoring='roc_auc')\n",
    "print(\"Cross-validated ROC AUC scores:\", scores)\n",
    "print(\"Average ROC AUC:\", scores.mean())"
   ]
  },
  {
   "cell_type": "code",
   "execution_count": 52,
   "metadata": {},
   "outputs": [
    {
     "data": {
      "image/png": "[encoded data removed]",
      "text/plain": [
       "<Figure size 640x480 with 1 Axes>"
      ]
     },
     "metadata": {},
     "output_type": "display_data"
    }
   ],
   "source": [
    "from sklearn.metrics import precision_recall_curve, roc_curve\n",
    "import matplotlib.pyplot as plt\n",
    "\n",
    "precision, recall, thresholds = precision_recall_curve(y_test, y_pred_proba)\n",
    "plt.plot(thresholds, precision[:-1], label='Precision')\n",
    "plt.plot(thresholds, recall[:-1], label='Recall')\n",
    "plt.xlabel('Threshold')\n",
    "plt.ylabel('Score')\n",
    "plt.legend()\n",
    "plt.show()"
   ]
  },
  {
   "cell_type": "code",
   "execution_count": 53,
   "metadata": {},
   "outputs": [
    {
     "name": "stdout",
     "output_type": "stream",
     "text": [
      "False Positives Sample:\n",
      "           type shipping_mode     order_region     order_status  \\\n",
      "41868  TRANSFER  Second Class  Central America          PENDING   \n",
      "31108   PAYMENT  Second Class    South America  PENDING_PAYMENT   \n",
      "14804   PAYMENT  Second Class    South America  PENDING_PAYMENT   \n",
      "12668   PAYMENT  Second Class    South America  PENDING_PAYMENT   \n",
      "54522  TRANSFER  Second Class    South America         CANCELED   \n",
      "\n",
      "       shipment_efficiency  price_per_customer  is_high_value_order  \\\n",
      "41868            -0.025413            0.254453                    0   \n",
      "31108             0.044944            0.285714                    0   \n",
      "14804             0.066867            0.215994                    0   \n",
      "12668            -0.025413            0.219300                    0   \n",
      "54522             0.025733            0.380720                    1   \n",
      "\n",
      "       order_weekday  is_weekend  \n",
      "41868              3           0  \n",
      "31108              0           0  \n",
      "14804              5           1  \n",
      "12668              6           1  \n",
      "54522              6           1  \n",
      "False Negatives Sample:\n",
      "           type   shipping_mode     order_region     order_status  \\\n",
      "48018     DEBIT  Standard Class  Central America         COMPLETE   \n",
      "30800   PAYMENT  Standard Class     West of USA   PENDING_PAYMENT   \n",
      "55081  TRANSFER  Standard Class    South America       PROCESSING   \n",
      "35746     DEBIT  Standard Class     West of USA          COMPLETE   \n",
      "32516     DEBIT  Standard Class     West of USA          COMPLETE   \n",
      "\n",
      "       shipment_efficiency  price_per_customer  is_high_value_order  \\\n",
      "48018            -0.050826            1.017813                    0   \n",
      "30800             0.041399            1.171888                    1   \n",
      "55081             0.183739            1.319830                    0   \n",
      "35746             0.103734            0.221239                    0   \n",
      "32516             2.339181            1.079151                    0   \n",
      "\n",
      "       order_weekday  is_weekend  \n",
      "48018              3           0  \n",
      "30800              2           0  \n",
      "55081              0           0  \n",
      "35746              2           0  \n",
      "32516              0           0  \n"
     ]
    }
   ],
   "source": [
    "false_positives = X_test[(y_test == 0) & (y_pred == 1)]\n",
    "false_negatives = X_test[(y_test == 1) & (y_pred == 0)]\n",
    "print(\"False Positives Sample:\")\n",
    "print(false_positives.head())\n",
    "print(\"False Negatives Sample:\")\n",
    "print(false_negatives.head())"
   ]
  },
  {
   "cell_type": "code",
   "execution_count": 54,
   "metadata": {},
   "outputs": [
    {
     "data": {
      "image/png": "[encoded data removed]",
      "text/plain": [
       "<Figure size 640x480 with 1 Axes>"
      ]
     },
     "metadata": {},
     "output_type": "display_data"
    }
   ],
   "source": [
    "from sklearn.inspection import permutation_importance\n",
    "import matplotlib.pyplot as plt\n",
    "\n",
    "importance = permutation_importance(logistic_pipeline, X_test, y_test, n_repeats=10, random_state=42)\n",
    "sorted_idx = importance.importances_mean.argsort()\n",
    "plt.barh(range(len(sorted_idx)), importance.importances_mean[sorted_idx], align='center')\n",
    "plt.yticks(range(len(sorted_idx)), [feature_names[i] for i in sorted_idx])\n",
    "plt.xlabel(\"Feature Importance\")\n",
    "plt.show()"
   ]
  },
  {
   "cell_type": "markdown",
   "metadata": {},
   "source": [
    "1.\tRegion-Specific Performance:\n",
    "- The performance of the model varies across regions. For instance:\n",
    "- West of USA shows a good balance between precision and recall for the “True” class.\n",
    "- Central America has similar precision, but recall is slightly lower.\n",
    "- South America’s recall is lower compared to others.\n",
    "- This indicates the model’s predictive power is region-dependent.\n",
    "2.\tCross-Validation Results:\n",
    "- Cross-validation shows an average ROC AUC of ~0.74, which confirms the model has a moderate ability to distinguish between late and on-time deliveries across different splits of the data.\n",
    "- This is consistent with the testing set’s ROC AUC, validating the model’s robustness.\n",
    "3.\tFeature Importance:\n",
    "- Features like shipping_mode and order_status have significant influence on the predictions.\n",
    "- shipping_mode_Standard Class and shipping_mode_Same Day have negative coefficients, meaning they reduce the likelihood of late delivery.\n",
    "4.\tPrecision-Recall Tradeoff:\n",
    "- By adjusting the threshold (e.g., 0.3, 0.35, 0.4), you can trade between precision and recall based on business needs.\n",
    "- For example, a threshold of 0.4 improves recall for late deliveries, ensuring fewer false negatives."
   ]
  },
  {
   "cell_type": "code",
   "execution_count": 55,
   "metadata": {},
   "outputs": [],
   "source": [
    "region_specific_models = {}\n",
    "for region in df['order_region'].unique():\n",
    "    subset_X = X[df['order_region'] == region]\n",
    "    subset_y = y[df['order_region'] == region]\n",
    "    \n",
    "    # Preprocess the subset data\n",
    "    subset_X_processed = preprocessor.transform(subset_X)\n",
    "    \n",
    "    model = LogisticRegression(max_iter=500, class_weight='balanced')\n",
    "    model.fit(subset_X_processed, subset_y)\n",
    "    region_specific_models[region] = model"
   ]
  },
  {
   "cell_type": "code",
   "execution_count": 56,
   "metadata": {},
   "outputs": [
    {
     "name": "stdout",
     "output_type": "stream",
     "text": [
      "Optimal Threshold: 0.30951810420777637, Max F1: 0.7277818106398424\n"
     ]
    }
   ],
   "source": [
    "from sklearn.metrics import precision_recall_curve\n",
    "optimal_threshold = None\n",
    "max_f1 = 0\n",
    "precision, recall, thresholds = precision_recall_curve(y_test, y_pred_proba)\n",
    "for p, r, t in zip(precision, recall, thresholds):\n",
    "    f1 = 2 * (p * r) / (p + r)\n",
    "    if f1 > max_f1:\n",
    "        max_f1 = f1\n",
    "        optimal_threshold = t\n",
    "print(f\"Optimal Threshold: {optimal_threshold}, Max F1: {max_f1}\")"
   ]
  },
  {
   "cell_type": "code",
   "execution_count": 57,
   "metadata": {},
   "outputs": [],
   "source": [
    "# Define a new preprocessor for the simplified dataset\n",
    "simplified_categorical_features = ['shipping_mode', 'type', 'order_status', 'order_region']\n",
    "simplified_preprocessor = ColumnTransformer(\n",
    "    transformers=[\n",
    "        ('cat', OneHotEncoder(drop='first'), simplified_categorical_features)\n",
    "    ]\n",
    ")"
   ]
  },
  {
   "cell_type": "code",
   "execution_count": 58,
   "metadata": {},
   "outputs": [],
   "source": [
    "# Align indices of features and labels\n",
    "simplified_X = X.loc[y_train.index, simplified_categorical_features]\n",
    "simplified_X_processed = simplified_preprocessor.fit_transform(simplified_X)"
   ]
  },
  {
   "cell_type": "code",
   "execution_count": 59,
   "metadata": {},
   "outputs": [
    {
     "name": "stdout",
     "output_type": "stream",
     "text": [
      "Simplified Model Performance:\n",
      "              precision    recall  f1-score   support\n",
      "\n",
      "       False       0.59      0.90      0.71     21229\n",
      "        True       0.88      0.53      0.66     28554\n",
      "\n",
      "    accuracy                           0.69     49783\n",
      "   macro avg       0.74      0.72      0.69     49783\n",
      "weighted avg       0.76      0.69      0.69     49783\n",
      "\n"
     ]
    }
   ],
   "source": [
    "# Select the simplified features\n",
    "simplified_features = ['shipping_mode', 'type', 'order_status', 'order_region']\n",
    "simplified_X = X[simplified_features]\n",
    "\n",
    "# Align indices of features and labels\n",
    "simplified_X = X.loc[y_train.index, simplified_features]\n",
    "\n",
    "# Transform the simplified dataset\n",
    "simplified_X_processed = simplified_preprocessor.fit_transform(simplified_X)\n",
    "\n",
    "# Train the logistic regression model\n",
    "simplified_model = LogisticRegression(max_iter=500, class_weight='balanced')\n",
    "simplified_model.fit(simplified_X_processed, y_train)\n",
    "\n",
    "# Evaluate the simplified model\n",
    "y_pred_simplified = simplified_model.predict(simplified_X_processed)\n",
    "print(\"Simplified Model Performance:\")\n",
    "print(classification_report(y_train, y_pred_simplified))"
   ]
  },
  {
   "cell_type": "code",
   "execution_count": 60,
   "metadata": {},
   "outputs": [
    {
     "name": "stdout",
     "output_type": "stream",
     "text": [
      "Optimal Threshold: 0.2703325777511358, Max F1: 0.7293429089886778\n",
      "Performance with Optimal Threshold:\n",
      "              precision    recall  f1-score   support\n",
      "\n",
      "       False       0.80      0.00      0.01     21229\n",
      "        True       0.57      1.00      0.73     28554\n",
      "\n",
      "    accuracy                           0.57     49783\n",
      "   macro avg       0.68      0.50      0.37     49783\n",
      "weighted avg       0.67      0.57      0.42     49783\n",
      "\n"
     ]
    }
   ],
   "source": [
    "from sklearn.metrics import precision_recall_curve, roc_curve\n",
    "\n",
    "# Calculate precision, recall, and thresholds\n",
    "precision, recall, thresholds = precision_recall_curve(y_train, simplified_model.predict_proba(simplified_X_processed)[:, 1])\n",
    "\n",
    "# Find the optimal threshold (maximizing F1-Score)\n",
    "optimal_threshold = None\n",
    "max_f1 = 0\n",
    "for p, r, t in zip(precision, recall, thresholds):\n",
    "    f1 = 2 * (p * r) / (p + r) if (p + r) > 0 else 0\n",
    "    if f1 > max_f1:\n",
    "        max_f1 = f1\n",
    "        optimal_threshold = t\n",
    "\n",
    "print(f\"Optimal Threshold: {optimal_threshold}, Max F1: {max_f1}\")\n",
    "\n",
    "# Apply the optimal threshold\n",
    "y_pred_optimized = (simplified_model.predict_proba(simplified_X_processed)[:, 1] >= optimal_threshold).astype(int)\n",
    "\n",
    "# Evaluate with the optimal threshold\n",
    "from sklearn.metrics import classification_report\n",
    "print(\"Performance with Optimal Threshold:\")\n",
    "print(classification_report(y_train, y_pred_optimized))"
   ]
  },
  {
   "cell_type": "code",
   "execution_count": 82,
   "metadata": {},
   "outputs": [
    {
     "name": "stdout",
     "output_type": "stream",
     "text": [
      "Performance for Region West of USA :\n",
      "              precision    recall  f1-score   support\n",
      "\n",
      "       False       0.60      0.91      0.72      2779\n",
      "        True       0.88      0.54      0.67      3643\n",
      "\n",
      "    accuracy                           0.70      6422\n",
      "   macro avg       0.74      0.72      0.70      6422\n",
      "weighted avg       0.76      0.70      0.69      6422\n",
      "\n",
      "            Region  Precision_True  Recall_True  F1-Score_True  \\\n",
      "0     West of USA         0.882221     0.540763       0.670524   \n",
      "1  Central America        0.877387     0.531549       0.662023   \n",
      "2   South of  USA         0.900350     0.544974       0.678972   \n",
      "3      East of USA        0.887687     0.525145       0.659900   \n",
      "4    South America        0.883664     0.532468       0.664518   \n",
      "\n",
      "   Precision_False  Recall_False  F1-Score_False  \n",
      "0         0.600621      0.905362        0.722158  \n",
      "1         0.589190      0.900445        0.712300  \n",
      "2         0.586936      0.914671        0.715038  \n",
      "3         0.573851      0.905872        0.702612  \n",
      "4         0.594781      0.907317        0.718535  \n",
      "Performance for Region Central America:\n",
      "              precision    recall  f1-score   support\n",
      "\n",
      "       False       0.59      0.90      0.71      9673\n",
      "        True       0.88      0.53      0.66     12964\n",
      "\n",
      "    accuracy                           0.69     22637\n",
      "   macro avg       0.73      0.72      0.69     22637\n",
      "weighted avg       0.75      0.69      0.68     22637\n",
      "\n",
      "            Region  Precision_True  Recall_True  F1-Score_True  \\\n",
      "0     West of USA         0.882221     0.540763       0.670524   \n",
      "1  Central America        0.877387     0.531549       0.662023   \n",
      "2   South of  USA         0.900350     0.544974       0.678972   \n",
      "3      East of USA        0.887687     0.525145       0.659900   \n",
      "4    South America        0.883664     0.532468       0.664518   \n",
      "\n",
      "   Precision_False  Recall_False  F1-Score_False  \n",
      "0         0.600621      0.905362        0.722158  \n",
      "1         0.589190      0.900445        0.712300  \n",
      "2         0.586936      0.914671        0.715038  \n",
      "3         0.573851      0.905872        0.702612  \n",
      "4         0.594781      0.907317        0.718535  \n",
      "Performance for Region South of  USA :\n",
      "              precision    recall  f1-score   support\n",
      "\n",
      "       False       0.59      0.91      0.72      1336\n",
      "        True       0.90      0.54      0.68      1890\n",
      "\n",
      "    accuracy                           0.70      3226\n",
      "   macro avg       0.74      0.73      0.70      3226\n",
      "weighted avg       0.77      0.70      0.69      3226\n",
      "\n",
      "            Region  Precision_True  Recall_True  F1-Score_True  \\\n",
      "0     West of USA         0.882221     0.540763       0.670524   \n",
      "1  Central America        0.877387     0.531549       0.662023   \n",
      "2   South of  USA         0.900350     0.544974       0.678972   \n",
      "3      East of USA        0.887687     0.525145       0.659900   \n",
      "4    South America        0.883664     0.532468       0.664518   \n",
      "\n",
      "   Precision_False  Recall_False  F1-Score_False  \n",
      "0         0.600621      0.905362        0.722158  \n",
      "1         0.589190      0.900445        0.712300  \n",
      "2         0.586936      0.914671        0.715038  \n",
      "3         0.573851      0.905872        0.702612  \n",
      "4         0.594781      0.907317        0.718535  \n",
      "Performance for Region East of USA:\n",
      "              precision    recall  f1-score   support\n",
      "\n",
      "       False       0.57      0.91      0.70      2316\n",
      "        True       0.89      0.53      0.66      3281\n",
      "\n",
      "    accuracy                           0.68      5597\n",
      "   macro avg       0.73      0.72      0.68      5597\n",
      "weighted avg       0.76      0.68      0.68      5597\n",
      "\n",
      "            Region  Precision_True  Recall_True  F1-Score_True  \\\n",
      "0     West of USA         0.882221     0.540763       0.670524   \n",
      "1  Central America        0.877387     0.531549       0.662023   \n",
      "2   South of  USA         0.900350     0.544974       0.678972   \n",
      "3      East of USA        0.887687     0.525145       0.659900   \n",
      "4    South America        0.883664     0.532468       0.664518   \n",
      "\n",
      "   Precision_False  Recall_False  F1-Score_False  \n",
      "0         0.600621      0.905362        0.722158  \n",
      "1         0.589190      0.900445        0.712300  \n",
      "2         0.586936      0.914671        0.715038  \n",
      "3         0.573851      0.905872        0.702612  \n",
      "4         0.594781      0.907317        0.718535  \n",
      "Performance for Region South America:\n",
      "              precision    recall  f1-score   support\n",
      "\n",
      "       False       0.59      0.91      0.72      5125\n",
      "        True       0.88      0.53      0.66      6776\n",
      "\n",
      "    accuracy                           0.69     11901\n",
      "   macro avg       0.74      0.72      0.69     11901\n",
      "weighted avg       0.76      0.69      0.69     11901\n",
      "\n",
      "            Region  Precision_True  Recall_True  F1-Score_True  \\\n",
      "0     West of USA         0.882221     0.540763       0.670524   \n",
      "1  Central America        0.877387     0.531549       0.662023   \n",
      "2   South of  USA         0.900350     0.544974       0.678972   \n",
      "3      East of USA        0.887687     0.525145       0.659900   \n",
      "4    South America        0.883664     0.532468       0.664518   \n",
      "\n",
      "   Precision_False  Recall_False  F1-Score_False  \n",
      "0         0.600621      0.905362        0.722158  \n",
      "1         0.589190      0.900445        0.712300  \n",
      "2         0.586936      0.914671        0.715038  \n",
      "3         0.573851      0.905872        0.702612  \n",
      "4         0.594781      0.907317        0.718535  \n"
     ]
    }
   ],
   "source": [
    "# Ensure 'order_region' is included in the features\n",
    "if 'order_region' not in simplified_features:\n",
    "    simplified_features.append('order_region')\n",
    "\n",
    "# Select the simplified features\n",
    "simplified_X = X[simplified_features]\n",
    "\n",
    "# Ensure indices of X and y are aligned\n",
    "simplified_X = simplified_X.loc[y_train.index]\n",
    "\n",
    "# Evaluate the model for each region\n",
    "for region in simplified_X['order_region'].unique():\n",
    "    # Subset the data for the region\n",
    "    region_X = simplified_X[simplified_X['order_region'] == region]\n",
    "    region_y = y_train.loc[region_X.index]  # Align y labels with the subset X indices\n",
    "    \n",
    "    # Transform the subset data\n",
    "    region_X_processed = simplified_preprocessor.transform(region_X)\n",
    "    \n",
    "    # Predict using the simplified model\n",
    "    region_y_pred = simplified_model.predict(region_X_processed)\n",
    "    \n",
    "    # Print performance metrics for the region\n",
    "    print(f\"Performance for Region {region}:\")\n",
    "    print(classification_report(region_y, region_y_pred))\n",
    "    \n",
    "    # Save the performance metrics for each region as a DataFrame\n",
    "    performance_metrics = []\n",
    "\n",
    "    for region in simplified_X['order_region'].unique():\n",
    "        # Subset the data for the region\n",
    "        region_X = simplified_X[simplified_X['order_region'] == region]\n",
    "        region_y = y_train.loc[region_X.index]  # Align y labels with the subset X indices\n",
    "        \n",
    "        # Transform the subset data\n",
    "        region_X_processed = simplified_preprocessor.transform(region_X)\n",
    "        \n",
    "        # Predict using the simplified model\n",
    "        region_y_pred = simplified_model.predict(region_X_processed)\n",
    "        \n",
    "        # Calculate performance metrics\n",
    "        report = classification_report(region_y, region_y_pred, output_dict=True)\n",
    "        performance_metrics.append({\n",
    "            'Region': region,\n",
    "            'Precision_True': report['True']['precision'],\n",
    "            'Recall_True': report['True']['recall'],\n",
    "            'F1-Score_True': report['True']['f1-score'],\n",
    "            'Precision_False': report['False']['precision'],\n",
    "            'Recall_False': report['False']['recall'],\n",
    "            'F1-Score_False': report['False']['f1-score']\n",
    "        })\n",
    "\n",
    "    # Convert the list of dictionaries to a DataFrame\n",
    "    performance_metrics_df = pd.DataFrame(performance_metrics)\n",
    "    print(performance_metrics_df)"
   ]
  },
  {
   "cell_type": "code",
   "execution_count": 62,
   "metadata": {},
   "outputs": [
    {
     "name": "stdout",
     "output_type": "stream",
     "text": [
      "Baseline Model Performance:\n",
      "              precision    recall  f1-score   support\n",
      "\n",
      "       False       0.59      0.90      0.71     21229\n",
      "        True       0.88      0.54      0.67     28554\n",
      "\n",
      "    accuracy                           0.69     49783\n",
      "   macro avg       0.74      0.72      0.69     49783\n",
      "weighted avg       0.76      0.69      0.69     49783\n",
      "\n"
     ]
    }
   ],
   "source": [
    "# Train a baseline model (e.g., Decision Tree Classifier)\n",
    "from sklearn.tree import DecisionTreeClassifier\n",
    "\n",
    "baseline_model = DecisionTreeClassifier(max_depth=5, random_state=42, class_weight='balanced')\n",
    "baseline_model.fit(simplified_X_processed, y_train)\n",
    "\n",
    "# Evaluate the baseline model\n",
    "baseline_y_pred = baseline_model.predict(simplified_X_processed)\n",
    "print(\"Baseline Model Performance:\")\n",
    "print(classification_report(y_train, baseline_y_pred))"
   ]
  },
  {
   "cell_type": "code",
   "execution_count": 63,
   "metadata": {},
   "outputs": [
    {
     "name": "stdout",
     "output_type": "stream",
     "text": [
      "Top 10 Important Features:\n",
      "                         Feature  Coefficient  Abs_Coefficient\n",
      "2   shipping_mode_Standard Class    -6.506770         6.506770\n",
      "0         shipping_mode_Same Day    -6.147275         6.147275\n",
      "1     shipping_mode_Second Class    -4.794371         4.794371\n",
      "6            order_status_CLOSED     1.383906         1.383906\n",
      "5                  type_TRANSFER     1.109910         1.109910\n",
      "4                   type_PAYMENT     0.926692         0.926692\n",
      "3                     type_DEBIT     0.904980         0.904980\n",
      "11  order_status_PENDING_PAYMENT     0.511240         0.511240\n",
      "8           order_status_ON_HOLD     0.462261         0.462261\n",
      "7          order_status_COMPLETE     0.442719         0.442719\n"
     ]
    }
   ],
   "source": [
    "# Retrieve feature names from the preprocessor\n",
    "from sklearn.compose import ColumnTransformer\n",
    "\n",
    "# Ensure you get the names of the one-hot encoded columns\n",
    "encoded_feature_names = simplified_preprocessor.named_transformers_['cat'].get_feature_names_out(simplified_categorical_features)\n",
    "\n",
    "# Combine all feature names (only categorical here as no numerical in simplified features)\n",
    "final_feature_names = encoded_feature_names\n",
    "\n",
    "# Retrieve coefficients from the logistic regression model\n",
    "coefficients = simplified_model.coef_[0]\n",
    "\n",
    "# Create a DataFrame for feature importance\n",
    "feature_importance = pd.DataFrame({\n",
    "    'Feature': final_feature_names,\n",
    "    'Coefficient': coefficients\n",
    "})\n",
    "\n",
    "# Calculate absolute coefficients for ranking\n",
    "feature_importance['Abs_Coefficient'] = feature_importance['Coefficient'].abs()\n",
    "\n",
    "# Sort by absolute coefficient values\n",
    "feature_importance = feature_importance.sort_values(by='Abs_Coefficient', ascending=False)\n",
    "\n",
    "# Display the top 10 important features\n",
    "print(\"Top 10 Important Features:\")\n",
    "print(feature_importance.head(10))"
   ]
  },
  {
   "cell_type": "markdown",
   "metadata": {},
   "source": [
    "\n",
    "1.\tOptimal Threshold and Region-Wise Evaluation:\n",
    "- The optimal threshold calculated for the logistic regression model maximizes the F1-score. Using this threshold can help balance precision and recall for the “late delivery” class.\n",
    "- The region-wise performance shows variations, indicating that “late delivery” behavior might differ based on geographic regions. These results suggest a possible need for region-specific models or further regional data preprocessing.\n",
    "2.\tBaseline Decision Tree Performance:\n",
    "- The baseline model (Decision Tree Classifier) provides similar precision and recall values compared to logistic regression but is less interpretable. Its simplicity might be useful if interpretability is not a concern.\n",
    "- The baseline model is good for confirming if the logistic regression model’s performance is meaningfully better.\\\n",
    "3.\tFeature Importance:\n",
    "- Logistic regression coefficients highlight key drivers of late delivery. For instance, features like shipping_mode_Standard Class and shipping_mode_Same Day have large negative impacts (significant predictors).\n",
    "- These insights could be used for actionable recommendations to improve the business process."
   ]
  },
  {
   "cell_type": "code",
   "execution_count": 64,
   "metadata": {},
   "outputs": [
    {
     "name": "stdout",
     "output_type": "stream",
     "text": [
      "Optimal Threshold: 0.3167609046312762, Max F1: 0.7290256579831151\n",
      "Final Model Performance with Optimal Threshold:\n",
      "              precision    recall  f1-score   support\n",
      "\n",
      "       False       0.66      0.03      0.05     26574\n",
      "        True       0.58      0.99      0.73     35655\n",
      "\n",
      "    accuracy                           0.58     62229\n",
      "   macro avg       0.62      0.51      0.39     62229\n",
      "weighted avg       0.61      0.58      0.44     62229\n",
      "\n"
     ]
    }
   ],
   "source": [
    "from sklearn.linear_model import LogisticRegression\n",
    "from sklearn.pipeline import Pipeline\n",
    "from sklearn.compose import ColumnTransformer\n",
    "from sklearn.metrics import classification_report, precision_recall_curve\n",
    "import joblib  # Correctly importing joblib\n",
    "import pandas as pd\n",
    "\n",
    "# Define the simplified features and categorical preprocessing\n",
    "simplified_features = ['shipping_mode', 'type', 'order_status', 'order_region']\n",
    "simplified_categorical_features = simplified_features\n",
    "\n",
    "# Create a preprocessing pipeline for simplified features\n",
    "simplified_preprocessor = ColumnTransformer(\n",
    "    transformers=[\n",
    "        ('cat', OneHotEncoder(drop='first'), simplified_categorical_features)\n",
    "    ]\n",
    ")\n",
    "\n",
    "# Train the final logistic regression model\n",
    "final_model_pipeline = Pipeline(steps=[\n",
    "    ('preprocessor', simplified_preprocessor),\n",
    "    ('classifier', LogisticRegression(max_iter=500, class_weight='balanced', random_state=42))\n",
    "])\n",
    "\n",
    "final_model_pipeline.fit(X[simplified_features], y)\n",
    "\n",
    "# Calculate the optimal threshold based on F1-score\n",
    "precision, recall, thresholds = precision_recall_curve(y, final_model_pipeline.predict_proba(X[simplified_features])[:, 1])\n",
    "optimal_threshold = None\n",
    "max_f1 = 0\n",
    "for p, r, t in zip(precision, recall, thresholds):\n",
    "    f1 = 2 * (p * r) / (p + r) if (p + r) > 0 else 0\n",
    "    if f1 > max_f1:\n",
    "        max_f1 = f1\n",
    "        optimal_threshold = t\n",
    "\n",
    "print(f\"Optimal Threshold: {optimal_threshold}, Max F1: {max_f1}\")\n",
    "\n",
    "# Save the final model pipeline and optimal threshold\n",
    "joblib.dump(final_model_pipeline, 'final_logistic_model.pkl')\n",
    "joblib.dump(optimal_threshold, 'optimal_threshold.pkl')\n",
    "\n",
    "# Evaluate the final model with optimal threshold\n",
    "y_pred_final = (final_model_pipeline.predict_proba(X[simplified_features])[:, 1] >= optimal_threshold).astype(int)\n",
    "print(\"Final Model Performance with Optimal Threshold:\")\n",
    "print(classification_report(y, y_pred_final))"
   ]
  },
  {
   "cell_type": "code",
   "execution_count": 65,
   "metadata": {},
   "outputs": [
    {
     "data": {
      "text/plain": [
       "['final_model_pipeline.pkl']"
      ]
     },
     "execution_count": 65,
     "metadata": {},
     "output_type": "execute_result"
    }
   ],
   "source": [
    "import joblib\n",
    "joblib.dump(final_model_pipeline, \"final_model_pipeline.pkl\")"
   ]
  },
  {
   "cell_type": "markdown",
   "metadata": {},
   "source": [
    "Nitya's part"
   ]
  },
  {
   "cell_type": "code",
   "execution_count": 76,
   "metadata": {},
   "outputs": [
    {
     "name": "stdout",
     "output_type": "stream",
     "text": [
      "{'West of USA ': LogisticRegression(class_weight='balanced', max_iter=500), 'Central America': LogisticRegression(class_weight='balanced', max_iter=500), 'South America': LogisticRegression(class_weight='balanced', max_iter=500), 'East of USA': LogisticRegression(class_weight='balanced', max_iter=500), 'South of  USA ': LogisticRegression(class_weight='balanced', max_iter=500)}\n"
     ]
    }
   ],
   "source": [
    "print(region_specific_models)"
   ]
  },
  {
   "cell_type": "code",
   "execution_count": 85,
   "metadata": {},
   "outputs": [
    {
     "data": {
      "image/png": "[encoded data removed]",
      "text/plain": [
       "<Figure size 1000x1500 with 3 Axes>"
      ]
     },
     "metadata": {},
     "output_type": "display_data"
    }
   ],
   "source": [
    "import matplotlib.pyplot as plt\n",
    "\n",
    "# Plot Precision, Recall, and F1-Score for each region\n",
    "fig, ax = plt.subplots(3, 1, figsize=(10, 15))\n",
    "\n",
    "# Precision\n",
    "ax[0].plot(performance_metrics_df['Region'], performance_metrics_df['Precision_True'], label='Precision (True)', marker='o')\n",
    "ax[0].plot(performance_metrics_df['Region'], performance_metrics_df['Precision_False'], label='Precision (False)', marker='o')\n",
    "ax[0].set_title('Precision by Region')\n",
    "ax[0].set_ylabel('Precision')\n",
    "ax[0].legend()\n",
    "\n",
    "# Recall\n",
    "ax[1].plot(performance_metrics_df['Region'], performance_metrics_df['Recall_True'], label='Recall (True)', marker='o')\n",
    "ax[1].plot(performance_metrics_df['Region'], performance_metrics_df['Recall_False'], label='Recall (False)', marker='o')\n",
    "ax[1].set_title('Recall by Region')\n",
    "ax[1].set_ylabel('Recall')\n",
    "ax[1].legend()\n",
    "\n",
    "# F1-Score\n",
    "ax[2].plot(performance_metrics_df['Region'], performance_metrics_df['F1-Score_True'], label='F1-Score (True)', marker='o')\n",
    "ax[2].plot(performance_metrics_df['Region'], performance_metrics_df['F1-Score_False'], label='F1-Score (False)', marker='o')\n",
    "ax[2].set_title('F1-Score by Region')\n",
    "ax[2].set_ylabel('F1-Score')\n",
    "ax[2].legend()\n",
    "\n",
    "plt.xlabel('Region')\n",
    "plt.tight_layout()\n",
    "plt.show()"
   ]
  },
  {
   "cell_type": "code",
   "execution_count": 86,
   "metadata": {},
   "outputs": [],
   "source": [
    "import joblib\n",
    "\n",
    "# Load the pipeline\n",
    "final_model_pipeline = joblib.load(\"final_model_pipeline.pkl\")\n",
    "\n",
    "# Load the optimal threshold (if saved separately)\n",
    "optimal_threshold = joblib.load(\"optimal_threshold.pkl\")\n"
   ]
  },
  {
   "cell_type": "code",
   "execution_count": 87,
   "metadata": {},
   "outputs": [
    {
     "name": "stdout",
     "output_type": "stream",
     "text": [
      "Requirement already satisfied: streamlit in /opt/conda/lib/python3.11/site-packages (1.38.0)\n",
      "Requirement already satisfied: altair<6,>=4.0 in /opt/conda/lib/python3.11/site-packages (from streamlit) (5.3.0)\n",
      "Requirement already satisfied: blinker<2,>=1.0.0 in /opt/conda/lib/python3.11/site-packages (from streamlit) (1.8.2)\n",
      "Requirement already satisfied: cachetools<6,>=4.0 in /opt/conda/lib/python3.11/site-packages (from streamlit) (5.5.0)\n",
      "Requirement already satisfied: click<9,>=7.0 in /opt/conda/lib/python3.11/site-packages (from streamlit) (8.1.7)\n",
      "Requirement already satisfied: numpy<3,>=1.20 in /opt/conda/lib/python3.11/site-packages (from streamlit) (1.26.4)\n",
      "Requirement already satisfied: packaging<25,>=20 in /opt/conda/lib/python3.11/site-packages (from streamlit) (24.1)\n",
      "Requirement already satisfied: pandas<3,>=1.3.0 in /opt/conda/lib/python3.11/site-packages (from streamlit) (2.2.2)\n",
      "Requirement already satisfied: pillow<11,>=7.1.0 in /opt/conda/lib/python3.11/site-packages (from streamlit) (10.4.0)\n",
      "Requirement already satisfied: protobuf<6,>=3.20 in /opt/conda/lib/python3.11/site-packages (from streamlit) (4.25.3)\n",
      "Requirement already satisfied: pyarrow>=7.0 in /opt/conda/lib/python3.11/site-packages (from streamlit) (16.1.0)\n",
      "Requirement already satisfied: requests<3,>=2.27 in /opt/conda/lib/python3.11/site-packages (from streamlit) (2.32.3)\n",
      "Requirement already satisfied: rich<14,>=10.14.0 in /opt/conda/lib/python3.11/site-packages (from streamlit) (13.8.1)\n",
      "Requirement already satisfied: tenacity<9,>=8.1.0 in /opt/conda/lib/python3.11/site-packages (from streamlit) (8.5.0)\n",
      "Requirement already satisfied: toml<2,>=0.10.1 in /opt/conda/lib/python3.11/site-packages (from streamlit) (0.10.2)\n",
      "Requirement already satisfied: typing-extensions<5,>=4.3.0 in /opt/conda/lib/python3.11/site-packages (from streamlit) (4.12.2)\n",
      "Requirement already satisfied: gitpython!=3.1.19,<4,>=3.0.7 in /opt/conda/lib/python3.11/site-packages (from streamlit) (3.1.43)\n",
      "Requirement already satisfied: pydeck<1,>=0.8.0b4 in /opt/conda/lib/python3.11/site-packages (from streamlit) (0.8.0b4)\n",
      "Requirement already satisfied: tornado<7,>=6.0.3 in /opt/conda/lib/python3.11/site-packages (from streamlit) (6.4.1)\n",
      "Requirement already satisfied: watchdog<5,>=2.1.5 in /opt/conda/lib/python3.11/site-packages (from streamlit) (4.0.1)\n",
      "Requirement already satisfied: jinja2 in /opt/conda/lib/python3.11/site-packages (from altair<6,>=4.0->streamlit) (3.1.4)\n",
      "Requirement already satisfied: jsonschema>=3.0 in /opt/conda/lib/python3.11/site-packages (from altair<6,>=4.0->streamlit) (4.23.0)\n",
      "Requirement already satisfied: toolz in /opt/conda/lib/python3.11/site-packages (from altair<6,>=4.0->streamlit) (0.12.1)\n",
      "Requirement already satisfied: gitdb<5,>=4.0.1 in /opt/conda/lib/python3.11/site-packages (from gitpython!=3.1.19,<4,>=3.0.7->streamlit) (4.0.11)\n",
      "Requirement already satisfied: python-dateutil>=2.8.2 in /opt/conda/lib/python3.11/site-packages (from pandas<3,>=1.3.0->streamlit) (2.9.0)\n",
      "Requirement already satisfied: pytz>=2020.1 in /opt/conda/lib/python3.11/site-packages (from pandas<3,>=1.3.0->streamlit) (2024.1)\n",
      "Requirement already satisfied: tzdata>=2022.7 in /opt/conda/lib/python3.11/site-packages (from pandas<3,>=1.3.0->streamlit) (2024.1)\n",
      "Requirement already satisfied: charset-normalizer<4,>=2 in /opt/conda/lib/python3.11/site-packages (from requests<3,>=2.27->streamlit) (3.3.2)\n",
      "Requirement already satisfied: idna<4,>=2.5 in /opt/conda/lib/python3.11/site-packages (from requests<3,>=2.27->streamlit) (3.7)\n",
      "Requirement already satisfied: urllib3<3,>=1.21.1 in /opt/conda/lib/python3.11/site-packages (from requests<3,>=2.27->streamlit) (1.26.20)\n",
      "Requirement already satisfied: certifi>=2017.4.17 in /opt/conda/lib/python3.11/site-packages (from requests<3,>=2.27->streamlit) (2024.8.30)\n",
      "Requirement already satisfied: markdown-it-py>=2.2.0 in /opt/conda/lib/python3.11/site-packages (from rich<14,>=10.14.0->streamlit) (3.0.0)\n",
      "Requirement already satisfied: pygments<3.0.0,>=2.13.0 in /opt/conda/lib/python3.11/site-packages (from rich<14,>=10.14.0->streamlit) (2.18.0)\n",
      "Requirement already satisfied: smmap<6,>=3.0.1 in /opt/conda/lib/python3.11/site-packages (from gitdb<5,>=4.0.1->gitpython!=3.1.19,<4,>=3.0.7->streamlit) (5.0.0)\n",
      "Requirement already satisfied: MarkupSafe>=2.0 in /opt/conda/lib/python3.11/site-packages (from jinja2->altair<6,>=4.0->streamlit) (2.1.5)\n",
      "Requirement already satisfied: attrs>=22.2.0 in /opt/conda/lib/python3.11/site-packages (from jsonschema>=3.0->altair<6,>=4.0->streamlit) (23.2.0)\n",
      "Requirement already satisfied: jsonschema-specifications>=2023.03.6 in /opt/conda/lib/python3.11/site-packages (from jsonschema>=3.0->altair<6,>=4.0->streamlit) (2023.12.1)\n",
      "Requirement already satisfied: referencing>=0.28.4 in /opt/conda/lib/python3.11/site-packages (from jsonschema>=3.0->altair<6,>=4.0->streamlit) (0.35.1)\n",
      "Requirement already satisfied: rpds-py>=0.7.1 in /opt/conda/lib/python3.11/site-packages (from jsonschema>=3.0->altair<6,>=4.0->streamlit) (0.19.1)\n",
      "Requirement already satisfied: mdurl~=0.1 in /opt/conda/lib/python3.11/site-packages (from markdown-it-py>=2.2.0->rich<14,>=10.14.0->streamlit) (0.1.2)\n",
      "Requirement already satisfied: six>=1.5 in /opt/conda/lib/python3.11/site-packages (from python-dateutil>=2.8.2->pandas<3,>=1.3.0->streamlit) (1.16.0)\n",
      "Note: you may need to restart the kernel to use updated packages.\n"
     ]
    }
   ],
   "source": [
    "pip install streamlit\n"
   ]
  },
  {
   "cell_type": "code",
   "execution_count": 88,
   "metadata": {},
   "outputs": [
    {
     "name": "stderr",
     "output_type": "stream",
     "text": [
      "2024-11-29 14:11:15.986 WARNING streamlit.runtime.scriptrunner_utils.script_run_context: Thread 'MainThread': missing ScriptRunContext! This warning can be ignored when running in bare mode.\n",
      "2024-11-29 14:11:16.103 \n",
      "  \u001b[33m\u001b[1mWarning:\u001b[0m to view this Streamlit app on a browser, run it with the following\n",
      "  command:\n",
      "\n",
      "    streamlit run /opt/conda/lib/python3.11/site-packages/ipykernel_launcher.py [ARGUMENTS]\n",
      "2024-11-29 14:11:16.107 Thread 'MainThread': missing ScriptRunContext! This warning can be ignored when running in bare mode.\n",
      "2024-11-29 14:11:16.108 Thread 'MainThread': missing ScriptRunContext! This warning can be ignored when running in bare mode.\n",
      "2024-11-29 14:11:16.109 Thread 'MainThread': missing ScriptRunContext! This warning can be ignored when running in bare mode.\n",
      "2024-11-29 14:11:16.109 Thread 'MainThread': missing ScriptRunContext! This warning can be ignored when running in bare mode.\n",
      "2024-11-29 14:11:16.110 Thread 'MainThread': missing ScriptRunContext! This warning can be ignored when running in bare mode.\n",
      "2024-11-29 14:11:16.112 Thread 'MainThread': missing ScriptRunContext! This warning can be ignored when running in bare mode.\n",
      "2024-11-29 14:11:16.112 Session state does not function when running a script without `streamlit run`\n",
      "2024-11-29 14:11:16.116 Thread 'MainThread': missing ScriptRunContext! This warning can be ignored when running in bare mode.\n",
      "2024-11-29 14:11:16.118 Thread 'MainThread': missing ScriptRunContext! This warning can be ignored when running in bare mode.\n",
      "2024-11-29 14:11:16.120 Thread 'MainThread': missing ScriptRunContext! This warning can be ignored when running in bare mode.\n",
      "2024-11-29 14:11:16.121 Thread 'MainThread': missing ScriptRunContext! This warning can be ignored when running in bare mode.\n",
      "2024-11-29 14:11:16.122 Thread 'MainThread': missing ScriptRunContext! This warning can be ignored when running in bare mode.\n",
      "2024-11-29 14:11:16.125 Thread 'MainThread': missing ScriptRunContext! This warning can be ignored when running in bare mode.\n",
      "2024-11-29 14:11:16.126 Thread 'MainThread': missing ScriptRunContext! This warning can be ignored when running in bare mode.\n",
      "2024-11-29 14:11:16.127 Thread 'MainThread': missing ScriptRunContext! This warning can be ignored when running in bare mode.\n",
      "2024-11-29 14:11:16.128 Thread 'MainThread': missing ScriptRunContext! This warning can be ignored when running in bare mode.\n",
      "2024-11-29 14:11:16.129 Thread 'MainThread': missing ScriptRunContext! This warning can be ignored when running in bare mode.\n",
      "2024-11-29 14:11:16.131 Thread 'MainThread': missing ScriptRunContext! This warning can be ignored when running in bare mode.\n",
      "2024-11-29 14:11:16.132 Thread 'MainThread': missing ScriptRunContext! This warning can be ignored when running in bare mode.\n",
      "2024-11-29 14:11:16.133 Thread 'MainThread': missing ScriptRunContext! This warning can be ignored when running in bare mode.\n",
      "2024-11-29 14:11:16.133 Thread 'MainThread': missing ScriptRunContext! This warning can be ignored when running in bare mode.\n",
      "2024-11-29 14:11:16.135 Thread 'MainThread': missing ScriptRunContext! This warning can be ignored when running in bare mode.\n",
      "2024-11-29 14:11:16.136 Thread 'MainThread': missing ScriptRunContext! This warning can be ignored when running in bare mode.\n",
      "2024-11-29 14:11:16.137 Thread 'MainThread': missing ScriptRunContext! This warning can be ignored when running in bare mode.\n",
      "2024-11-29 14:11:16.140 Thread 'MainThread': missing ScriptRunContext! This warning can be ignored when running in bare mode.\n",
      "2024-11-29 14:11:16.141 Thread 'MainThread': missing ScriptRunContext! This warning can be ignored when running in bare mode.\n",
      "2024-11-29 14:11:16.143 Thread 'MainThread': missing ScriptRunContext! This warning can be ignored when running in bare mode.\n",
      "2024-11-29 14:11:16.149 Thread 'MainThread': missing ScriptRunContext! This warning can be ignored when running in bare mode.\n"
     ]
    }
   ],
   "source": [
    "import streamlit as st\n",
    "import numpy as np\n",
    "\n",
    "# Load the model pipeline and threshold\n",
    "final_model_pipeline = joblib.load(\"final_model_pipeline.pkl\")\n",
    "optimal_threshold = joblib.load(\"optimal_threshold.pkl\")\n",
    "\n",
    "# Define the app\n",
    "st.title(\"Late Delivery Risk Prediction\")\n",
    "\n",
    "# User input fields for each feature\n",
    "st.header(\"Enter Delivery Details\")\n",
    "shipping_mode = st.selectbox(\"Shipping Mode\", [\"Same Day\", \"Second Class\", \"Standard Class\"])\n",
    "order_type = st.selectbox(\"Order Type\", [\"Payment\", \"Transfer\", \"Debit\"])\n",
    "order_status = st.selectbox(\"Order Status\", [\"Pending Payment\", \"Complete\", \"Closed\", \"On Hold\"])\n",
    "order_region = st.selectbox(\"Order Region\", [\"West of USA\", \"Central America\", \"South of USA\", \"East of USA\", \"South America\"])\n",
    "\n",
    "# Convert inputs into a single-row dataframe\n",
    "input_data = {\n",
    "    \"shipping_mode\": [shipping_mode],\n",
    "    \"type\": [order_type],\n",
    "    \"order_status\": [order_status],\n",
    "    \"order_region\": [order_region],\n",
    "}\n",
    "\n",
    "# Predict late delivery\n",
    "if st.button(\"Predict\"):\n",
    "    # Convert user input to the format required by the model pipeline\n",
    "    input_df = pd.DataFrame(input_data)\n",
    "    probabilities = final_model_pipeline.predict_proba(input_df)[:, 1]  # Probability for the \"late\" class\n",
    "\n",
    "    # Compare probability with optimal threshold\n",
    "    is_late = probabilities[0] >= optimal_threshold\n",
    "    risk_score = probabilities[0] * 100\n",
    "\n",
    "    # Display result\n",
    "    if is_late:\n",
    "        st.error(f\"High Risk of Late Delivery! (Risk Score: {risk_score:.2f}%)\")\n",
    "    else:\n",
    "        st.success(f\"Low Risk of Late Delivery (Risk Score: {risk_score:.2f}%)\")\n"
   ]
  }
 ],
 "metadata": {
  "kernelspec": {
   "display_name": "base",
   "language": "python",
   "name": "python3"
  },
  "language_info": {
   "codemirror_mode": {
    "name": "ipython",
    "version": 3
   },
   "file_extension": ".py",
   "mimetype": "text/x-python",
   "name": "python",
   "nbconvert_exporter": "python",
   "pygments_lexer": "ipython3",
   "version": "3.11.9"
  }
 },
 "nbformat": 4,
 "nbformat_minor": 2
}
